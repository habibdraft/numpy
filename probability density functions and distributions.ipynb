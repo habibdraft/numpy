{
 "cells": [
  {
   "cell_type": "code",
   "execution_count": null,
   "id": "432df63f",
   "metadata": {},
   "outputs": [],
   "source": [
    "#Using a normal approximation to the binomial distribution, find the probability of \n",
    "#obtaining 130 or more heads in 200 flips of a fair coin."
   ]
  },
  {
   "cell_type": "code",
   "execution_count": null,
   "id": "70f5d99b",
   "metadata": {},
   "outputs": [],
   "source": [
    "#Get the normalizing constant c for the following linear density function\n",
    "#f(x) = c(mx+b) if r < x < s, 0 otherwise - DONE\n",
    "\n",
    "#copy electronically"
   ]
  },
  {
   "cell_type": "code",
   "execution_count": 1,
   "id": "03b4a9d3",
   "metadata": {},
   "outputs": [
    {
     "ename": "NameError",
     "evalue": "name 'n' is not defined",
     "output_type": "error",
     "traceback": [
      "\u001b[1;31m---------------------------------------------------------------------------\u001b[0m",
      "\u001b[1;31mNameError\u001b[0m                                 Traceback (most recent call last)",
      "Cell \u001b[1;32mIn[1], line 3\u001b[0m\n\u001b[0;32m      1\u001b[0m prod \u001b[38;5;241m=\u001b[39m \u001b[38;5;241m1\u001b[39m\n\u001b[1;32m----> 3\u001b[0m \u001b[38;5;28;01mfor\u001b[39;00m i \u001b[38;5;129;01min\u001b[39;00m \u001b[38;5;28mrange\u001b[39m(\u001b[43mn\u001b[49m):\n\u001b[0;32m      4\u001b[0m     prod \u001b[38;5;241m=\u001b[39m prod\u001b[38;5;241m*\u001b[39m\u001b[38;5;241m1\u001b[39m\u001b[38;5;241m/\u001b[39m(\u001b[38;5;241m2\u001b[39m\u001b[38;5;241m*\u001b[39mmath\u001b[38;5;241m.\u001b[39mpi\u001b[38;5;241m*\u001b[39mstddev\u001b[38;5;241m*\u001b[39m\u001b[38;5;241m*\u001b[39m\u001b[38;5;241m2\u001b[39m)\u001b[38;5;241m*\u001b[39m\u001b[38;5;241m*\u001b[39m(\u001b[38;5;241m1\u001b[39m\u001b[38;5;241m/\u001b[39m\u001b[38;5;241m2\u001b[39m) \u001b[38;5;241m*\u001b[39m math\u001b[38;5;241m.\u001b[39mexp(x[i] \u001b[38;5;241m-\u001b[39m mean)\u001b[38;5;241m/\u001b[39m(\u001b[38;5;241m2\u001b[39m\u001b[38;5;241m*\u001b[39msttdev\u001b[38;5;241m*\u001b[39m\u001b[38;5;241m*\u001b[39m\u001b[38;5;241m2\u001b[39m)\n",
      "\u001b[1;31mNameError\u001b[0m: name 'n' is not defined"
     ]
    }
   ],
   "source": [
    "prod = 1\n",
    "\n",
    "for i in range(n):\n",
    "    prod = prod*1/(2*math.pi*stddev**2)**(1/2) * math.exp(x[i] - mean)/(2*sttdev**2)"
   ]
  },
  {
   "cell_type": "code",
   "execution_count": null,
   "id": "21e671af",
   "metadata": {},
   "outputs": [],
   "source": []
  }
 ],
 "metadata": {
  "kernelspec": {
   "display_name": "Python 3 (ipykernel)",
   "language": "python",
   "name": "python3"
  },
  "language_info": {
   "codemirror_mode": {
    "name": "ipython",
    "version": 3
   },
   "file_extension": ".py",
   "mimetype": "text/x-python",
   "name": "python",
   "nbconvert_exporter": "python",
   "pygments_lexer": "ipython3",
   "version": "3.10.12"
  }
 },
 "nbformat": 4,
 "nbformat_minor": 5
}
