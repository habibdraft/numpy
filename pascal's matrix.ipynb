{
 "cells": [
  {
   "cell_type": "code",
   "execution_count": 2,
   "id": "52866713",
   "metadata": {},
   "outputs": [],
   "source": [
    "import pandas as pd\n",
    "import numpy as np"
   ]
  },
  {
   "cell_type": "code",
   "execution_count": 3,
   "id": "fb704890",
   "metadata": {},
   "outputs": [
    {
     "data": {
      "text/plain": [
       "[0    1\n",
       " 1    2\n",
       " 2    3\n",
       " 3    4\n",
       " 4    5\n",
       " Name: col1, dtype: int64,\n",
       " 0     1\n",
       " 1     3\n",
       " 2     6\n",
       " 3    10\n",
       " 4    15\n",
       " Name: col2, dtype: int64,\n",
       " 0     1\n",
       " 1     4\n",
       " 2    10\n",
       " 3    20\n",
       " 4    35\n",
       " Name: col3, dtype: int64,\n",
       " 0     1\n",
       " 1     5\n",
       " 2    15\n",
       " 3    35\n",
       " 4    70\n",
       " Name: col4, dtype: int64]"
      ]
     },
     "execution_count": 3,
     "metadata": {},
     "output_type": "execute_result"
    }
   ],
   "source": [
    "#dynamic programming: given a number n, get pascal's triangle up to first n rows\n",
    "#each number is the sum of the two numbers directly above it\n",
    "\n",
    "#Pascal's matrix\n",
    "#create df above without repeating rows, use for loop if needed\n",
    "\n",
    "df = pd.DataFrame()\n",
    "\n",
    "df['col1'] = [1, 1, 1, 1, 1]\n",
    "\n",
    "for i in range(2, 6):\n",
    "    df[f'col{i}'] = df[f'col{i-1}'].cumsum()\n",
    "\n",
    "#create df without using for loop or list comprehension\n",
    "\n",
    "[df[f'col{i-1}'].cumsum() for i in range(2,6)]"
   ]
  },
  {
   "cell_type": "code",
   "execution_count": 4,
   "id": "b4cc4576",
   "metadata": {},
   "outputs": [],
   "source": [
    "#change above to numpy\n",
    "#create array without using for loop"
   ]
  },
  {
   "cell_type": "code",
   "execution_count": 5,
   "id": "d194630b",
   "metadata": {},
   "outputs": [],
   "source": [
    "#write a function that can calculate any binomial coefficient\n",
    "#use numpy"
   ]
  },
  {
   "cell_type": "code",
   "execution_count": 6,
   "id": "b6ee968f",
   "metadata": {},
   "outputs": [
    {
     "data": {
      "text/html": [
       "<div>\n",
       "<style scoped>\n",
       "    .dataframe tbody tr th:only-of-type {\n",
       "        vertical-align: middle;\n",
       "    }\n",
       "\n",
       "    .dataframe tbody tr th {\n",
       "        vertical-align: top;\n",
       "    }\n",
       "\n",
       "    .dataframe thead th {\n",
       "        text-align: right;\n",
       "    }\n",
       "</style>\n",
       "<table border=\"1\" class=\"dataframe\">\n",
       "  <thead>\n",
       "    <tr style=\"text-align: right;\">\n",
       "      <th></th>\n",
       "      <th>col1</th>\n",
       "      <th>col2</th>\n",
       "      <th>col3</th>\n",
       "      <th>col4</th>\n",
       "      <th>col5</th>\n",
       "    </tr>\n",
       "  </thead>\n",
       "  <tbody>\n",
       "    <tr>\n",
       "      <th>0</th>\n",
       "      <td>1</td>\n",
       "      <td>1</td>\n",
       "      <td>1</td>\n",
       "      <td>1</td>\n",
       "      <td>1</td>\n",
       "    </tr>\n",
       "    <tr>\n",
       "      <th>1</th>\n",
       "      <td>1</td>\n",
       "      <td>2</td>\n",
       "      <td>3</td>\n",
       "      <td>4</td>\n",
       "      <td>5</td>\n",
       "    </tr>\n",
       "    <tr>\n",
       "      <th>2</th>\n",
       "      <td>1</td>\n",
       "      <td>3</td>\n",
       "      <td>6</td>\n",
       "      <td>10</td>\n",
       "      <td>15</td>\n",
       "    </tr>\n",
       "    <tr>\n",
       "      <th>3</th>\n",
       "      <td>1</td>\n",
       "      <td>4</td>\n",
       "      <td>10</td>\n",
       "      <td>20</td>\n",
       "      <td>35</td>\n",
       "    </tr>\n",
       "    <tr>\n",
       "      <th>4</th>\n",
       "      <td>1</td>\n",
       "      <td>5</td>\n",
       "      <td>15</td>\n",
       "      <td>35</td>\n",
       "      <td>70</td>\n",
       "    </tr>\n",
       "  </tbody>\n",
       "</table>\n",
       "</div>"
      ],
      "text/plain": [
       "   col1  col2  col3  col4  col5\n",
       "0     1     1     1     1     1\n",
       "1     1     2     3     4     5\n",
       "2     1     3     6    10    15\n",
       "3     1     4    10    20    35\n",
       "4     1     5    15    35    70"
      ]
     },
     "execution_count": 6,
     "metadata": {},
     "output_type": "execute_result"
    }
   ],
   "source": [
    "df"
   ]
  },
  {
   "cell_type": "code",
   "execution_count": 7,
   "id": "cd9af6ac",
   "metadata": {},
   "outputs": [
    {
     "data": {
      "text/plain": [
       "array([[1., 1., 1., 1., 1.],\n",
       "       [1., 1., 1., 1., 1.],\n",
       "       [1., 1., 1., 1., 1.],\n",
       "       [1., 1., 1., 1., 1.],\n",
       "       [1., 1., 1., 1., 1.]])"
      ]
     },
     "execution_count": 7,
     "metadata": {},
     "output_type": "execute_result"
    }
   ],
   "source": [
    "a = np.ones((5,5))\n",
    "a "
   ]
  },
  {
   "cell_type": "code",
   "execution_count": 8,
   "id": "c5907e58",
   "metadata": {},
   "outputs": [],
   "source": [
    "#get different matrices to overlay each other"
   ]
  },
  {
   "cell_type": "code",
   "execution_count": 46,
   "id": "20d1ab6a",
   "metadata": {},
   "outputs": [],
   "source": [
    "a = np.tril(a)\n",
    "b = np.pad(a,((0,0),(1,0)))[:, :-1]\n",
    "c = np.pad(b,((0,0),(1,0)))[:, :-1]\n",
    "d = np.pad(c,((0,0),(1,0)))[:, :-1]\n",
    "e = np.pad(d,((0,0),(1,0)))[:, :-1]"
   ]
  },
  {
   "cell_type": "code",
   "execution_count": 53,
   "id": "2becead1",
   "metadata": {},
   "outputs": [
    {
     "data": {
      "text/plain": [
       "array([[1., 0., 0., 0., 0.],\n",
       "       [1., 1., 0., 0., 0.],\n",
       "       [1., 1., 1., 0., 0.],\n",
       "       [1., 1., 1., 1., 0.],\n",
       "       [1., 1., 1., 1., 1.]])"
      ]
     },
     "execution_count": 53,
     "metadata": {},
     "output_type": "execute_result"
    }
   ],
   "source": [
    "a"
   ]
  },
  {
   "cell_type": "code",
   "execution_count": 54,
   "id": "b3ca8651",
   "metadata": {},
   "outputs": [
    {
     "data": {
      "text/plain": [
       "array([[0., 1., 0., 0., 0.],\n",
       "       [0., 2., 1., 0., 0.],\n",
       "       [0., 3., 2., 1., 0.],\n",
       "       [0., 4., 3., 2., 1.],\n",
       "       [0., 5., 4., 3., 2.]])"
      ]
     },
     "execution_count": 54,
     "metadata": {},
     "output_type": "execute_result"
    }
   ],
   "source": [
    "b.cumsum(axis=0)"
   ]
  },
  {
   "cell_type": "code",
   "execution_count": 55,
   "id": "b944c465",
   "metadata": {},
   "outputs": [
    {
     "data": {
      "text/plain": [
       "array([[ 0.,  0.,  1.,  0.,  0.],\n",
       "       [ 0.,  0.,  3.,  1.,  0.],\n",
       "       [ 0.,  0.,  6.,  3.,  1.],\n",
       "       [ 0.,  0., 10.,  6.,  3.],\n",
       "       [ 0.,  0., 15., 10.,  6.]])"
      ]
     },
     "execution_count": 55,
     "metadata": {},
     "output_type": "execute_result"
    }
   ],
   "source": [
    "c.cumsum(axis=0).cumsum(axis=0)"
   ]
  },
  {
   "cell_type": "code",
   "execution_count": 56,
   "id": "39d42a85",
   "metadata": {},
   "outputs": [
    {
     "data": {
      "text/plain": [
       "array([[ 0.,  0.,  0.,  1.,  0.],\n",
       "       [ 0.,  0.,  0.,  4.,  1.],\n",
       "       [ 0.,  0.,  0., 10.,  4.],\n",
       "       [ 0.,  0.,  0., 20., 10.],\n",
       "       [ 0.,  0.,  0., 35., 20.]])"
      ]
     },
     "execution_count": 56,
     "metadata": {},
     "output_type": "execute_result"
    }
   ],
   "source": [
    "d.cumsum(axis=0).cumsum(axis=0).cumsum(axis=0)"
   ]
  },
  {
   "cell_type": "code",
   "execution_count": 57,
   "id": "6b687758",
   "metadata": {},
   "outputs": [
    {
     "data": {
      "text/plain": [
       "array([[ 0.,  0.,  0.,  0.,  1.],\n",
       "       [ 0.,  0.,  0.,  0.,  5.],\n",
       "       [ 0.,  0.,  0.,  0., 15.],\n",
       "       [ 0.,  0.,  0.,  0., 35.],\n",
       "       [ 0.,  0.,  0.,  0., 70.]])"
      ]
     },
     "execution_count": 57,
     "metadata": {},
     "output_type": "execute_result"
    }
   ],
   "source": [
    "e.cumsum(axis=0).cumsum(axis=0).cumsum(axis=0).cumsum(axis=0)"
   ]
  },
  {
   "cell_type": "code",
   "execution_count": 65,
   "id": "0fa10dde",
   "metadata": {},
   "outputs": [],
   "source": [
    "f = np.maximum(a, b.cumsum(axis=0))"
   ]
  },
  {
   "cell_type": "code",
   "execution_count": 68,
   "id": "a8fb112f",
   "metadata": {},
   "outputs": [],
   "source": [
    "g = np.maximum(f, c.cumsum(axis=0).cumsum(axis=0))"
   ]
  },
  {
   "cell_type": "code",
   "execution_count": 71,
   "id": "8803457c",
   "metadata": {},
   "outputs": [],
   "source": [
    "h = np.maximum(g, d.cumsum(axis=0).cumsum(axis=0).cumsum(axis=0))"
   ]
  },
  {
   "cell_type": "code",
   "execution_count": 77,
   "id": "052fe498",
   "metadata": {},
   "outputs": [
    {
     "data": {
      "text/plain": [
       "array([[ 1.,  1.,  1.,  1.,  1.],\n",
       "       [ 1.,  2.,  3.,  4.,  5.],\n",
       "       [ 1.,  3.,  6., 10., 15.],\n",
       "       [ 1.,  4., 10., 20., 35.],\n",
       "       [ 1.,  5., 15., 35., 70.]])"
      ]
     },
     "execution_count": 77,
     "metadata": {},
     "output_type": "execute_result"
    }
   ],
   "source": [
    "np.maximum(h, e.cumsum(axis=0).cumsum(axis=0).cumsum(axis=0).cumsum(axis=0))"
   ]
  },
  {
   "cell_type": "code",
   "execution_count": 78,
   "id": "b017cc84",
   "metadata": {},
   "outputs": [
    {
     "data": {
      "text/plain": [
       "array([[1., 1., 0., 0., 0.],\n",
       "       [1., 2., 1., 0., 0.],\n",
       "       [1., 3., 2., 1., 0.],\n",
       "       [1., 4., 3., 2., 1.],\n",
       "       [1., 5., 4., 3., 2.]])"
      ]
     },
     "execution_count": 78,
     "metadata": {},
     "output_type": "execute_result"
    }
   ],
   "source": [
    "np.maximum(a, b.cumsum(axis=0), c.cumsum(axis=0).cumsum(axis=0))"
   ]
  },
  {
   "cell_type": "code",
   "execution_count": null,
   "id": "54f4273f",
   "metadata": {},
   "outputs": [],
   "source": [
    "#generate binomial coefficent lower triangular matrix\n",
    "#flip to get upper triangular\n",
    "#multiply to get pascal as above"
   ]
  }
 ],
 "metadata": {
  "kernelspec": {
   "display_name": "Python 3 (ipykernel)",
   "language": "python",
   "name": "python3"
  },
  "language_info": {
   "codemirror_mode": {
    "name": "ipython",
    "version": 3
   },
   "file_extension": ".py",
   "mimetype": "text/x-python",
   "name": "python",
   "nbconvert_exporter": "python",
   "pygments_lexer": "ipython3",
   "version": "3.10.12"
  }
 },
 "nbformat": 4,
 "nbformat_minor": 5
}
