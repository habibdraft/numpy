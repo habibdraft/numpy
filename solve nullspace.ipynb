{
 "cells": [
  {
   "cell_type": "code",
   "execution_count": 2,
   "id": "6d813e80",
   "metadata": {
    "scrolled": false
   },
   "outputs": [],
   "source": [
    "import numpy as np"
   ]
  },
  {
   "cell_type": "code",
   "execution_count": 3,
   "id": "9d0a9d08",
   "metadata": {},
   "outputs": [],
   "source": [
    "#Markov chain transition matrix P\n",
    "\n",
    "P = np.array(((.8,.1,.2), (.2,.6,.3), (0,.3,.5)))"
   ]
  },
  {
   "cell_type": "code",
   "execution_count": 6,
   "id": "ea995ea7",
   "metadata": {},
   "outputs": [
    {
     "data": {
      "text/plain": [
       "array([[-0.2,  0.1,  0.2],\n",
       "       [ 0.2, -0.4,  0.3],\n",
       "       [ 0. ,  0.3, -0.5]])"
      ]
     },
     "execution_count": 6,
     "metadata": {},
     "output_type": "execute_result"
    }
   ],
   "source": [
    "P - np.identity(3)"
   ]
  },
  {
   "cell_type": "code",
   "execution_count": null,
   "id": "d5c80036",
   "metadata": {},
   "outputs": [],
   "source": [
    "#solve (P-I)q = 0"
   ]
  },
  {
   "cell_type": "code",
   "execution_count": null,
   "id": "fe53b34e",
   "metadata": {},
   "outputs": [],
   "source": []
  },
  {
   "cell_type": "code",
   "execution_count": null,
   "id": "b8351b79",
   "metadata": {},
   "outputs": [],
   "source": []
  }
 ],
 "metadata": {
  "kernelspec": {
   "display_name": "Python 3 (ipykernel)",
   "language": "python",
   "name": "python3"
  },
  "language_info": {
   "codemirror_mode": {
    "name": "ipython",
    "version": 3
   },
   "file_extension": ".py",
   "mimetype": "text/x-python",
   "name": "python",
   "nbconvert_exporter": "python",
   "pygments_lexer": "ipython3",
   "version": "3.10.12"
  }
 },
 "nbformat": 4,
 "nbformat_minor": 5
}
