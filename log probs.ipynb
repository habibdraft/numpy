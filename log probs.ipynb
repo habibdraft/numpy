{
 "cells": [
  {
   "cell_type": "code",
   "execution_count": 10,
   "id": "40fbe376",
   "metadata": {},
   "outputs": [],
   "source": [
    "import math"
   ]
  },
  {
   "cell_type": "code",
   "execution_count": 11,
   "id": "2c8e840b",
   "metadata": {},
   "outputs": [],
   "source": [
    "p1 = 0.5\n",
    "p2 = 0.5\n",
    "# p1 * p2 = 0.25\n",
    "# -log(p1) - log(p2) = 2\n",
    "\n",
    "p3 = 0.1\n",
    "p4 = 0.1\n",
    "# p3 * p4 = 0.01\n",
    "# -log(p3) - log(p4) = 6.64"
   ]
  },
  {
   "cell_type": "code",
   "execution_count": 12,
   "id": "ebcdac61",
   "metadata": {},
   "outputs": [
    {
     "data": {
      "text/plain": [
       "0.25"
      ]
     },
     "execution_count": 12,
     "metadata": {},
     "output_type": "execute_result"
    }
   ],
   "source": [
    "p1*p2"
   ]
  },
  {
   "cell_type": "code",
   "execution_count": 29,
   "id": "f7220f31",
   "metadata": {},
   "outputs": [
    {
     "data": {
      "text/plain": [
       "0.25"
      ]
     },
     "execution_count": 29,
     "metadata": {},
     "output_type": "execute_result"
    }
   ],
   "source": [
    "math.exp(math.log(0.5) + math.log(0.5))"
   ]
  },
  {
   "cell_type": "code",
   "execution_count": 24,
   "id": "a90912e4",
   "metadata": {},
   "outputs": [
    {
     "data": {
      "text/plain": [
       "1.3862943611198906"
      ]
     },
     "execution_count": 24,
     "metadata": {},
     "output_type": "execute_result"
    }
   ],
   "source": [
    "-math.log(.25)"
   ]
  },
  {
   "cell_type": "code",
   "execution_count": 28,
   "id": "2c388b79",
   "metadata": {},
   "outputs": [
    {
     "data": {
      "text/plain": [
       "0.25"
      ]
     },
     "execution_count": 28,
     "metadata": {},
     "output_type": "execute_result"
    }
   ],
   "source": [
    "math.exp(math.log(.25))"
   ]
  },
  {
   "cell_type": "code",
   "execution_count": null,
   "id": "5ad6476c",
   "metadata": {},
   "outputs": [],
   "source": []
  }
 ],
 "metadata": {
  "kernelspec": {
   "display_name": "Python 3 (ipykernel)",
   "language": "python",
   "name": "python3"
  },
  "language_info": {
   "codemirror_mode": {
    "name": "ipython",
    "version": 3
   },
   "file_extension": ".py",
   "mimetype": "text/x-python",
   "name": "python",
   "nbconvert_exporter": "python",
   "pygments_lexer": "ipython3",
   "version": "3.10.12"
  }
 },
 "nbformat": 4,
 "nbformat_minor": 5
}
