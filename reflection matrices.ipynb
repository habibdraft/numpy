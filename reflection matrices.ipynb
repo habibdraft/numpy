{
 "cells": [
  {
   "cell_type": "code",
   "execution_count": 34,
   "id": "4143b022",
   "metadata": {},
   "outputs": [],
   "source": [
    "import numpy as np\n",
    "import sympy as sp\n",
    "import matplotlib.pyplot as plt"
   ]
  },
  {
   "cell_type": "code",
   "execution_count": 35,
   "id": "923a2f1b",
   "metadata": {},
   "outputs": [],
   "source": [
    "#Reflection over x-axis\n",
    "\n",
    "reflection_x = np.array(((1,0),(0,-1)))\n",
    "reflection_y = np.array(((-1,0),(0,1)))\n",
    "reflection_yx = np.array(((0,-1),(-1,0)))"
   ]
  },
  {
   "cell_type": "code",
   "execution_count": 36,
   "id": "5153fff6",
   "metadata": {},
   "outputs": [],
   "source": [
    "A = np.array(((3,4), (5,2)))"
   ]
  },
  {
   "cell_type": "code",
   "execution_count": 37,
   "id": "bd5a724a",
   "metadata": {},
   "outputs": [
    {
     "data": {
      "text/plain": [
       "<matplotlib.lines.Line2D at 0x1c3d200cbb0>"
      ]
     },
     "execution_count": 37,
     "metadata": {},
     "output_type": "execute_result"
    },
    {
     "data": {
      "image/png": "[encoded data removed]",
      "text/plain": [
       "<Figure size 640x480 with 1 Axes>"
      ]
     },
     "metadata": {},
     "output_type": "display_data"
    }
   ],
   "source": [
    "plt.scatter(A[:, 0], A[:, 1])\n",
    "plt.scatter(A.dot(reflection_x)[:, 0], A.dot(reflection_x)[:, 1])\n",
    "plt.scatter(A.dot(reflection_y)[:, 0], A.dot(reflection_y)[:, 1])\n",
    "plt.scatter(A.dot(reflection_yx)[:, 0], A.dot(reflection_yx)[:, 1])\n",
    "\n",
    "plt.axhline(0)\n",
    "plt.axvline(0)"
   ]
  },
  {
   "cell_type": "code",
   "execution_count": 38,
   "id": "1e897967",
   "metadata": {},
   "outputs": [
    {
     "data": {
      "text/plain": [
       "array([[-4, -3],\n",
       "       [-2, -5]])"
      ]
     },
     "execution_count": 38,
     "metadata": {},
     "output_type": "execute_result"
    }
   ],
   "source": [
    "A.dot(reflection_yx)"
   ]
  },
  {
   "cell_type": "code",
   "execution_count": null,
   "id": "6fe97f57",
   "metadata": {},
   "outputs": [],
   "source": []
  }
 ],
 "metadata": {
  "kernelspec": {
   "display_name": "Python 3 (ipykernel)",
   "language": "python",
   "name": "python3"
  },
  "language_info": {
   "codemirror_mode": {
    "name": "ipython",
    "version": 3
   },
   "file_extension": ".py",
   "mimetype": "text/x-python",
   "name": "python",
   "nbconvert_exporter": "python",
   "pygments_lexer": "ipython3",
   "version": "3.10.12"
  }
 },
 "nbformat": 4,
 "nbformat_minor": 5
}
