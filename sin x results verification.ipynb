{
 "cells": [
  {
   "cell_type": "code",
   "execution_count": 53,
   "id": "40fbe376",
   "metadata": {},
   "outputs": [],
   "source": [
    "import torch\n",
    "import numpy as np\n",
    "import matplotlib.pyplot as plt\n",
    "import math"
   ]
  },
  {
   "cell_type": "code",
   "execution_count": 54,
   "id": "2c8e840b",
   "metadata": {},
   "outputs": [],
   "source": [
    "x = torch.linspace(-math.pi, math.pi, 2000)\n",
    "y = torch.sin(x)\n",
    "xx = x.unsqueeze(-1).pow(torch.tensor([1, 2, 3]))"
   ]
  },
  {
   "cell_type": "code",
   "execution_count": 55,
   "id": "ebcdac61",
   "metadata": {},
   "outputs": [
    {
     "name": "stdout",
     "output_type": "stream",
     "text": [
      "99 570.4019165039062\n",
      "199 425.6173095703125\n",
      "299 300.7923278808594\n",
      "399 199.6876678466797\n",
      "499 125.08256530761719\n",
      "599 75.18798828125\n",
      "699 44.679298400878906\n",
      "799 27.367136001586914\n",
      "899 18.1013126373291\n",
      "999 13.354029655456543\n",
      "1099 10.99708366394043\n",
      "1199 9.852508544921875\n",
      "1299 9.305039405822754\n",
      "1399 9.045856475830078\n",
      "1499 8.923992156982422\n",
      "1599 8.866947174072266\n",
      "1699 8.840336799621582\n",
      "1799 8.827934265136719\n",
      "1899 8.822175979614258\n",
      "1999 8.819487571716309\n"
     ]
    }
   ],
   "source": [
    "model = torch.nn.Sequential(\n",
    "    torch.nn.Linear(3, 10),\n",
    "    torch.nn.Linear(10, 1),\n",
    "    torch.nn.Flatten(0, 1)\n",
    ")\n",
    "\n",
    "loss_fn = torch.nn.MSELoss(reduction='sum')\n",
    "lr = 1e-6\n",
    "\n",
    "for t in range(2000):\n",
    "    y_pred = model(xx)\n",
    "    loss = loss_fn(y_pred, y)\n",
    "    if t % 100 == 99:\n",
    "        print(t, loss.item())\n",
    "    \n",
    "    model.zero_grad()\n",
    "    loss.backward()\n",
    "    \n",
    "    with torch.no_grad():\n",
    "        for param in model.parameters():\n",
    "            param -= lr * param.grad"
   ]
  },
  {
   "cell_type": "code",
   "execution_count": 56,
   "id": "f7220f31",
   "metadata": {},
   "outputs": [
    {
     "data": {
      "text/plain": [
       "OrderedDict([('0.weight',\n",
       "              tensor([[ 0.0443,  0.1684,  0.0742],\n",
       "                      [-0.2937,  0.4730,  0.1237],\n",
       "                      [-0.2304,  0.5643, -0.1027],\n",
       "                      [ 0.2968,  0.0717, -0.0231],\n",
       "                      [-0.6672, -0.5220, -0.2895],\n",
       "                      [-0.0086,  0.0084,  0.3166],\n",
       "                      [-0.3721, -0.1921, -0.3604],\n",
       "                      [-0.2502,  0.2719, -0.2709],\n",
       "                      [ 0.4913, -0.2321, -0.0193],\n",
       "                      [-0.5886,  0.3930,  0.3091]])),\n",
       "             ('0.bias',\n",
       "              tensor([-0.4629, -0.4709,  0.0522, -0.2512, -0.4871,  0.1533, -0.4036,  0.3017,\n",
       "                      -0.3975, -0.0462])),\n",
       "             ('1.weight',\n",
       "              tensor([[ 0.0343,  0.0465,  0.0331,  0.1833, -0.4620, -0.1002,  0.0087,  0.0532,\n",
       "                        0.4154, -0.5508]])),\n",
       "             ('1.bias', tensor([0.0003]))])"
      ]
     },
     "execution_count": 56,
     "metadata": {},
     "output_type": "execute_result"
    }
   ],
   "source": [
    "model.state_dict()"
   ]
  },
  {
   "cell_type": "code",
   "execution_count": null,
   "id": "a90912e4",
   "metadata": {},
   "outputs": [],
   "source": []
  },
  {
   "cell_type": "code",
   "execution_count": null,
   "id": "2c388b79",
   "metadata": {},
   "outputs": [],
   "source": []
  },
  {
   "cell_type": "code",
   "execution_count": null,
   "id": "5ad6476c",
   "metadata": {},
   "outputs": [],
   "source": []
  }
 ],
 "metadata": {
  "kernelspec": {
   "display_name": "Python 3 (ipykernel)",
   "language": "python",
   "name": "python3"
  },
  "language_info": {
   "codemirror_mode": {
    "name": "ipython",
    "version": 3
   },
   "file_extension": ".py",
   "mimetype": "text/x-python",
   "name": "python",
   "nbconvert_exporter": "python",
   "pygments_lexer": "ipython3",
   "version": "3.10.12"
  }
 },
 "nbformat": 4,
 "nbformat_minor": 5
}
