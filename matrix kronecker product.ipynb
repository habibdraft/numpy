{
 "cells": [
  {
   "cell_type": "code",
   "execution_count": 2,
   "id": "4586f7e1",
   "metadata": {},
   "outputs": [],
   "source": [
    "import numpy as np"
   ]
  },
  {
   "cell_type": "code",
   "execution_count": 3,
   "id": "9cc73c5c",
   "metadata": {},
   "outputs": [],
   "source": [
    "k = 5\n",
    "\n",
    "A = np.array(((0, 4, 3), (8, 0, k), (1, 1, 0)))"
   ]
  },
  {
   "cell_type": "code",
   "execution_count": 4,
   "id": "c26e1d9b",
   "metadata": {},
   "outputs": [
    {
     "data": {
      "text/plain": [
       "array([[0, 4, 3],\n",
       "       [8, 0, 5],\n",
       "       [1, 1, 0]])"
      ]
     },
     "execution_count": 4,
     "metadata": {},
     "output_type": "execute_result"
    }
   ],
   "source": [
    "A"
   ]
  },
  {
   "cell_type": "code",
   "execution_count": 5,
   "id": "ac77b3ce",
   "metadata": {},
   "outputs": [],
   "source": [
    "def determinant(A):\n",
    "    return A[0][0]*A[1][1] - A[0][1]*A[1][0]"
   ]
  },
  {
   "cell_type": "code",
   "execution_count": null,
   "id": "9cd1a93f",
   "metadata": {},
   "outputs": [],
   "source": []
  },
  {
   "cell_type": "code",
   "execution_count": 6,
   "id": "c594adb0",
   "metadata": {},
   "outputs": [
    {
     "data": {
      "text/plain": [
       "array([[0, 4],\n",
       "       [8, 0]])"
      ]
     },
     "execution_count": 6,
     "metadata": {},
     "output_type": "execute_result"
    }
   ],
   "source": [
    "A[:2, :2]"
   ]
  },
  {
   "cell_type": "code",
   "execution_count": 15,
   "id": "f849c0d1",
   "metadata": {},
   "outputs": [],
   "source": [
    "r = np.array(((0, 1), (1, 0))) #y = x\n",
    "s = np.array(((1, 0), (0, -1))) #x-axis\n",
    "t = np.array(((-1, 0), (0, 1))) #y-axis\n",
    "A = np.array(((2, 5), (3, 4)))"
   ]
  },
  {
   "cell_type": "code",
   "execution_count": 13,
   "id": "68dbf66a",
   "metadata": {},
   "outputs": [
    {
     "data": {
      "text/plain": [
       "array([[ 2, -5],\n",
       "       [ 3, -4]])"
      ]
     },
     "execution_count": 13,
     "metadata": {},
     "output_type": "execute_result"
    }
   ],
   "source": [
    "A.dot(s)"
   ]
  },
  {
   "cell_type": "code",
   "execution_count": 14,
   "id": "d2e30579",
   "metadata": {},
   "outputs": [
    {
     "data": {
      "text/plain": [
       "array([[5, 2],\n",
       "       [4, 3]])"
      ]
     },
     "execution_count": 14,
     "metadata": {},
     "output_type": "execute_result"
    }
   ],
   "source": [
    "A.dot(r)"
   ]
  },
  {
   "cell_type": "code",
   "execution_count": 17,
   "id": "96aca49d",
   "metadata": {},
   "outputs": [
    {
     "data": {
      "text/plain": [
       "array([[-2,  5],\n",
       "       [-3,  4]])"
      ]
     },
     "execution_count": 17,
     "metadata": {},
     "output_type": "execute_result"
    }
   ],
   "source": [
    "A.dot(t)"
   ]
  },
  {
   "cell_type": "code",
   "execution_count": 20,
   "id": "510dc79c",
   "metadata": {},
   "outputs": [
    {
     "data": {
      "text/plain": [
       "array([[0, 0, 0, 0, 1, 1, 0, 1, 1],\n",
       "       [0, 0, 0, 1, 1, 1, 1, 1, 1],\n",
       "       [0, 0, 0, 0, 1, 1, 0, 1, 1],\n",
       "       [0, 1, 1, 0, 1, 1, 0, 1, 1],\n",
       "       [1, 1, 1, 1, 1, 1, 1, 1, 1],\n",
       "       [0, 1, 1, 0, 1, 1, 0, 1, 1],\n",
       "       [0, 0, 0, 0, 1, 1, 0, 1, 1],\n",
       "       [0, 0, 0, 1, 1, 1, 1, 1, 1],\n",
       "       [0, 0, 0, 0, 1, 1, 0, 1, 1]])"
      ]
     },
     "execution_count": 20,
     "metadata": {},
     "output_type": "execute_result"
    }
   ],
   "source": [
    "A = np.array(((0,1,1), (1,1,1), (0,1,1)))\n",
    "np.kron(A, A)"
   ]
  },
  {
   "cell_type": "code",
   "execution_count": 24,
   "id": "c8035d1a",
   "metadata": {},
   "outputs": [
    {
     "data": {
      "text/plain": [
       "array([[0, 0, 0, 0, 1, 1, 0, 1, 1],\n",
       "       [0, 0, 0, 1, 1, 1, 1, 1, 1],\n",
       "       [0, 0, 0, 0, 1, 1, 0, 1, 1],\n",
       "       [0, 1, 1, 0, 1, 1, 0, 1, 1],\n",
       "       [1, 1, 1, 1, 1, 1, 1, 1, 1],\n",
       "       [0, 1, 1, 0, 1, 1, 0, 1, 1],\n",
       "       [0, 0, 0, 0, 1, 1, 0, 1, 1],\n",
       "       [0, 0, 0, 1, 1, 1, 1, 1, 1],\n",
       "       [0, 0, 0, 0, 1, 1, 0, 1, 1]])"
      ]
     },
     "execution_count": 24,
     "metadata": {},
     "output_type": "execute_result"
    }
   ],
   "source": [
    "B = np.block([[np.zeros((3,3)), A, A],\n",
    "          [A, A, A],\n",
    "          [np.zeros((3,3)), A, A]\n",
    "         ]).astype(int)\n",
    "B"
   ]
  },
  {
   "cell_type": "code",
   "execution_count": null,
   "id": "c334d9b2",
   "metadata": {},
   "outputs": [],
   "source": []
  }
 ],
 "metadata": {
  "kernelspec": {
   "display_name": "Python 3 (ipykernel)",
   "language": "python",
   "name": "python3"
  },
  "language_info": {
   "codemirror_mode": {
    "name": "ipython",
    "version": 3
   },
   "file_extension": ".py",
   "mimetype": "text/x-python",
   "name": "python",
   "nbconvert_exporter": "python",
   "pygments_lexer": "ipython3",
   "version": "3.10.12"
  }
 },
 "nbformat": 4,
 "nbformat_minor": 5
}
