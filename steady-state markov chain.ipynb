{
 "cells": [
  {
   "cell_type": "code",
   "execution_count": 2,
   "metadata": {},
   "outputs": [],
   "source": [
    "import numpy as np\n",
    "import sympy as sp"
   ]
  },
  {
   "cell_type": "code",
   "execution_count": 3,
   "metadata": {},
   "outputs": [
    {
     "data": {
      "text/plain": [
       "[(1.00000000000000,\n",
       "  1,\n",
       "  [Matrix([\n",
       "   [0.235702260395516],\n",
       "   [0.942809041582063],\n",
       "   [0.235702260395516]])]),\n",
       " (0.600000000000000,\n",
       "  1,\n",
       "  [Matrix([\n",
       "   [   -0.707106781186548],\n",
       "   [-4.59079606607299e-64],\n",
       "   [    0.707106781186548]])]),\n",
       " (0.400000000000000,\n",
       "  1,\n",
       "  [Matrix([\n",
       "   [-0.5],\n",
       "   [ 1.0],\n",
       "   [-0.5]])])]"
      ]
     },
     "execution_count": 3,
     "metadata": {},
     "output_type": "execute_result"
    }
   ],
   "source": [
    "P = sp.Matrix(np.array(((.6,.1,0), (.4,.8,.4),(0,.1,.6))))\n",
    "P.eigenvects()"
   ]
  },
  {
   "cell_type": "code",
   "execution_count": 5,
   "metadata": {},
   "outputs": [
    {
     "data": {
      "text/plain": [
       "[Matrix([\n",
       " [  -1],\n",
       " [-2/3],\n",
       " [   1],\n",
       " [   0]]),\n",
       " Matrix([\n",
       " [  -3],\n",
       " [-1/3],\n",
       " [   0],\n",
       " [   1]])]"
      ]
     },
     "execution_count": 5,
     "metadata": {},
     "output_type": "execute_result"
    }
   ],
   "source": [
    "M = sp.Matrix([[1, 0, 1, 3], [2, 3, 4, 7], [-1, -3, -3, -4]]) \n",
    "M.nullspace()"
   ]
  },
  {
   "cell_type": "code",
   "execution_count": null,
   "metadata": {},
   "outputs": [],
   "source": []
  },
  {
   "cell_type": "code",
   "execution_count": null,
   "metadata": {},
   "outputs": [],
   "source": []
  },
  {
   "cell_type": "code",
   "execution_count": null,
   "metadata": {},
   "outputs": [],
   "source": []
  }
 ],
 "metadata": {
  "kernelspec": {
   "display_name": "Python 3",
   "language": "python",
   "name": "python3"
  },
  "language_info": {
   "codemirror_mode": {
    "name": "ipython",
    "version": 3
   },
   "file_extension": ".py",
   "mimetype": "text/x-python",
   "name": "python",
   "nbconvert_exporter": "python",
   "pygments_lexer": "ipython3",
   "version": "3.8.5"
  }
 },
 "nbformat": 4,
 "nbformat_minor": 4
}
