{
 "cells": [
  {
   "cell_type": "code",
   "execution_count": 1,
   "id": "775ae491",
   "metadata": {},
   "outputs": [],
   "source": [
    "import numpy as np\n",
    "from numpy.linalg import inv\n",
    "\n",
    "#create absorbing Markov chain problem using numpy\n",
    "\n",
    "#https://github.com/ivanseed/google-foobar-help/blob/master/challenges/doomsday_fuel/doomsday_fuel.md\n",
    "\n",
    "arr = np.array([\n",
    "  [0,1,0,0,0,1],  # s0, the initial state, goes to s1 and s5 with equal probability\n",
    "  [4,0,0,3,2,0],  # s1 can become s0, s3, or s4, but with different probabilities\n",
    "  [0,0,0,0,0,0],  # s2 is terminal and unreachable (never observed in practice)\n",
    "  [0,0,0,0,0,0],  # s3 is terminal\n",
    "  [0,0,0,0,0,0],  # s4 is terminal\n",
    "  [0,0,0,0,0,0],  # s5 is terminal\n",
    "])\n",
    "\n",
    "arr2 = np.array([\n",
    "    [0, 2, 1, 0, 0], \n",
    "    [0, 0, 0, 3, 4], \n",
    "    [0, 0, 0, 0, 0], \n",
    "    [0, 0, 0, 0, 0], \n",
    "    [0, 0, 0, 0, 0]\n",
    "])\n",
    "\n",
    "#where does this converge? \n",
    "\n",
    "def absorbing_markov_chain(arr):\n",
    "    idx = arr.sum(axis=1).argsort()\n",
    "    arr = arr[:, idx][idx, :]\n",
    "    idx = np.where(arr[:,:].sum(axis=1) == 0)\n",
    "\n",
    "    arr[idx, idx] = 1\n",
    "    len_idx = idx[0].shape[0]\n",
    "\n",
    "    arr = arr/arr.sum(axis=1)[:,None]\n",
    "\n",
    "    #get I, 0, R, Q from arr\n",
    "\n",
    "    zero = arr[:len_idx, len_idx:]\n",
    "    q = arr[len_idx:, len_idx:]\n",
    "    r = arr[len_idx:, :len_idx]\n",
    "    i = np.identity(len(q))\n",
    "    f = inv(i - q)\n",
    "    \n",
    "    return f.dot(r)[0]"
   ]
  },
  {
   "cell_type": "code",
   "execution_count": 4,
   "id": "228f6073",
   "metadata": {},
   "outputs": [
    {
     "name": "stdout",
     "output_type": "stream",
     "text": [
      "[0.         0.21428571 0.14285714 0.64285714]\n",
      "[0.33333333 0.28571429 0.38095238]\n"
     ]
    }
   ],
   "source": [
    "print(absorbing_markov_chain(arr))\n",
    "print(absorbing_markov_chain(arr2))"
   ]
  }
 ],
 "metadata": {
  "kernelspec": {
   "display_name": "Python 3 (ipykernel)",
   "language": "python",
   "name": "python3"
  },
  "language_info": {
   "codemirror_mode": {
    "name": "ipython",
    "version": 3
   },
   "file_extension": ".py",
   "mimetype": "text/x-python",
   "name": "python",
   "nbconvert_exporter": "python",
   "pygments_lexer": "ipython3",
   "version": "3.10.12"
  }
 },
 "nbformat": 4,
 "nbformat_minor": 5
}
